{
 "metadata": {
  "language_info": {
   "codemirror_mode": {
    "name": "ipython",
    "version": 3
   },
   "file_extension": ".py",
   "mimetype": "text/x-python",
   "name": "python",
   "nbconvert_exporter": "python",
   "pygments_lexer": "ipython3",
   "version": "3.8.5-final"
  },
  "orig_nbformat": 2,
  "kernelspec": {
   "name": "Python 3.8.5 64-bit",
   "display_name": "Python 3.8.5 64-bit",
   "metadata": {
    "interpreter": {
     "hash": "1ee38ef4a5a9feb55287fd749643f13d043cb0a7addaab2a9c224cbe137c0062"
    }
   }
  }
 },
 "nbformat": 4,
 "nbformat_minor": 2,
 "cells": [
  {
   "cell_type": "code",
   "execution_count": 51,
   "metadata": {},
   "outputs": [],
   "source": [
    "import pandas as pd\n",
    "import numpy as np\n",
    "import textdistance\n",
    "import re\n",
    "# import data\n",
    "# abt = pd.read_csv(\"/Users/xuusuki/Documents/GitHub/sukixuu/Ass/20008/myass2/abt_small.csv\", encoding='ISO-8859-1')\n",
    "# buy = pd.read_csv(\"/Users/xuusuki/Documents/GitHub/sukixuu/Ass/20008/myass2/buy_small.csv\", encoding='ISO-8859-1')\n",
    "# truth_table = pd.read_csv(\"/Users/xuusuki/Documents/GitHub/sukixuu/Ass/20008/myass2/abt_buy_truth_small.csv\", encoding='ISO-8859-1')\n",
    "abt = pd.read_csv(\"/Users/xuusuki/Documents/GitHub/sukixuu/Ass/20008/myass2/abt.csv\", encoding='ISO-8859-1')\n",
    "buy = pd.read_csv(\"/Users/xuusuki/Documents/GitHub/sukixuu/Ass/20008/myass2/buy.csv\", encoding='ISO-8859-1')\n",
    "truth_table = pd.read_csv(\"/Users/xuusuki/Documents/GitHub/sukixuu/Ass/20008/myass2/abt_buy_truth.csv\", encoding='ISO-8859-1')\n"
   ]
  },
  {
   "cell_type": "code",
   "execution_count": 52,
   "metadata": {},
   "outputs": [
    {
     "output_type": "execute_result",
     "data": {
      "text/plain": [
       "          idBuy                                               name  \\\n",
       "0      10011646  Linksys EtherFast EZXS88W Ethernet Switch - EZ...   \n",
       "1      10140760          Linksys EtherFast EZXS55W Ethernet Switch   \n",
       "2      10221960    Netgear ProSafe FS105 Ethernet Switch - FS105NA   \n",
       "3      10246269  Belkin Pro Series High Integrity VGA/SVGA Moni...   \n",
       "4      10315184             Netgear ProSafe JFS516 Ethernet Switch   \n",
       "...         ...                                                ...   \n",
       "1087  210566840          Sony VAIO FW378J/B Notebook - VGNFW378J/B   \n",
       "1088  210571462  Sennheiser CX380 Sennheiser CX 380 Sport II Gr...   \n",
       "1089  210634625                 IWORK 09 RETAIL-INT DVD - MB942Z/A   \n",
       "1090  210634626            IWORK 09 FAMILY PACK-INT DVD - MB943Z/A   \n",
       "1091  210647824  CASE MATE CARBON FIBER IPHONE 3G CASE BLACK - ...   \n",
       "\n",
       "                                            description manufacturer   price  \n",
       "0     Linksys EtherFast 8-Port 10/100 Switch (New/Wo...      linksys     NaN  \n",
       "1                                 5 x 10/100Base-TX LAN      linksys     NaN  \n",
       "2     NETGEAR FS105 Prosafe 5 Port 10/100 Desktop Sw...      netgear     NaN  \n",
       "3                  1 x HD-15 - 1 x HD-15 - 10ft - Beige       belkin     NaN  \n",
       "4     Netgear ProSafe 16 Port 10/100 Rackmount Switc...      netgear     NaN  \n",
       "...                                                 ...          ...     ...  \n",
       "1087  Intel Centrino 2 Core 2 Duo P8600 2.4GHz - 16....         sony     NaN  \n",
       "1088                                                NaN   sennheiser     NaN  \n",
       "1089                                                NaN        apple     NaN  \n",
       "1090                                                NaN        apple     NaN  \n",
       "1091                                                NaN     casemate  $28.08  \n",
       "\n",
       "[1086 rows x 5 columns]"
      ],
      "text/html": "<div>\n<style scoped>\n    .dataframe tbody tr th:only-of-type {\n        vertical-align: middle;\n    }\n\n    .dataframe tbody tr th {\n        vertical-align: top;\n    }\n\n    .dataframe thead th {\n        text-align: right;\n    }\n</style>\n<table border=\"1\" class=\"dataframe\">\n  <thead>\n    <tr style=\"text-align: right;\">\n      <th></th>\n      <th>idBuy</th>\n      <th>name</th>\n      <th>description</th>\n      <th>manufacturer</th>\n      <th>price</th>\n    </tr>\n  </thead>\n  <tbody>\n    <tr>\n      <th>0</th>\n      <td>10011646</td>\n      <td>Linksys EtherFast EZXS88W Ethernet Switch - EZ...</td>\n      <td>Linksys EtherFast 8-Port 10/100 Switch (New/Wo...</td>\n      <td>linksys</td>\n      <td>NaN</td>\n    </tr>\n    <tr>\n      <th>1</th>\n      <td>10140760</td>\n      <td>Linksys EtherFast EZXS55W Ethernet Switch</td>\n      <td>5 x 10/100Base-TX LAN</td>\n      <td>linksys</td>\n      <td>NaN</td>\n    </tr>\n    <tr>\n      <th>2</th>\n      <td>10221960</td>\n      <td>Netgear ProSafe FS105 Ethernet Switch - FS105NA</td>\n      <td>NETGEAR FS105 Prosafe 5 Port 10/100 Desktop Sw...</td>\n      <td>netgear</td>\n      <td>NaN</td>\n    </tr>\n    <tr>\n      <th>3</th>\n      <td>10246269</td>\n      <td>Belkin Pro Series High Integrity VGA/SVGA Moni...</td>\n      <td>1 x HD-15 - 1 x HD-15 - 10ft - Beige</td>\n      <td>belkin</td>\n      <td>NaN</td>\n    </tr>\n    <tr>\n      <th>4</th>\n      <td>10315184</td>\n      <td>Netgear ProSafe JFS516 Ethernet Switch</td>\n      <td>Netgear ProSafe 16 Port 10/100 Rackmount Switc...</td>\n      <td>netgear</td>\n      <td>NaN</td>\n    </tr>\n    <tr>\n      <th>...</th>\n      <td>...</td>\n      <td>...</td>\n      <td>...</td>\n      <td>...</td>\n      <td>...</td>\n    </tr>\n    <tr>\n      <th>1087</th>\n      <td>210566840</td>\n      <td>Sony VAIO FW378J/B Notebook - VGNFW378J/B</td>\n      <td>Intel Centrino 2 Core 2 Duo P8600 2.4GHz - 16....</td>\n      <td>sony</td>\n      <td>NaN</td>\n    </tr>\n    <tr>\n      <th>1088</th>\n      <td>210571462</td>\n      <td>Sennheiser CX380 Sennheiser CX 380 Sport II Gr...</td>\n      <td>NaN</td>\n      <td>sennheiser</td>\n      <td>NaN</td>\n    </tr>\n    <tr>\n      <th>1089</th>\n      <td>210634625</td>\n      <td>IWORK 09 RETAIL-INT DVD - MB942Z/A</td>\n      <td>NaN</td>\n      <td>apple</td>\n      <td>NaN</td>\n    </tr>\n    <tr>\n      <th>1090</th>\n      <td>210634626</td>\n      <td>IWORK 09 FAMILY PACK-INT DVD - MB943Z/A</td>\n      <td>NaN</td>\n      <td>apple</td>\n      <td>NaN</td>\n    </tr>\n    <tr>\n      <th>1091</th>\n      <td>210647824</td>\n      <td>CASE MATE CARBON FIBER IPHONE 3G CASE BLACK - ...</td>\n      <td>NaN</td>\n      <td>casemate</td>\n      <td>$28.08</td>\n    </tr>\n  </tbody>\n</table>\n<p>1086 rows × 5 columns</p>\n</div>"
     },
     "metadata": {},
     "execution_count": 52
    }
   ],
   "source": [
    "buy.manufacturer = buy.manufacturer.str.lower()\n",
    "buy_group_t = buy[buy.manufacturer.notnull()]\n",
    "buy_group_t.manufacturer = buy_group_t.manufacturer.str.replace(r'[-]|[\\.]|[,]',\"\")\n",
    "buy_group_t.manufacturer = buy_group_t.manufacturer.str.replace(r' +',\" \")\n",
    "buy_group_t = buy_group_t.manufacturer.str.split(r' ',expand=True)\n",
    "# buy_group.info()\n",
    "# buy_group_t\n",
    "buy_group = buy[buy.manufacturer.notnull()] \n",
    "buy_group.manufacturer = buy_group_t[0]\n",
    "buy_group"
   ]
  },
  {
   "cell_type": "code",
   "execution_count": null,
   "metadata": {},
   "outputs": [],
   "source": []
  },
  {
   "cell_type": "code",
   "execution_count": 34,
   "metadata": {},
   "outputs": [],
   "source": [
    "group_pattern = ''"
   ]
  },
  {
   "cell_type": "code",
   "execution_count": 53,
   "metadata": {},
   "outputs": [
    {
     "output_type": "execute_result",
     "data": {
      "text/plain": [
       "'alpine|altec|apple|audiovox|belkin|blueant|bose|boston|bracketron|brenthaven|canon|case|casemate|chestnut|coby|contour|cuisinart|danby|dbl|dei|delonghi|denon|dlink|dlo|electrolux|elgato|escort|eureka|fellowes|frigidaire|fsi|garmin|ge|griffin|haier|hoover|ihome|jabra|jawbone|kensington|kenwood|kitchenaid|klipsch|lacie|lasonic|lg|linksys|logitech|lowepro|lucasarts|maytag|microsoft|mitsubishi|monster|mosquito|motorola|netgear|nikon|nintendo|nokia|nyko|olympus|omnimount|onkyo|oregon|panasonic|peerless|pioneer|plantronics|polk|polkaudio|pure|robot|samsung|sanus|sdi|sennheiser|sharp|simpletech|sirius|skullcandy|smith|sony|speck|square|tech|techcraft|terk|tivo|tom|tomtom|toshiba|transcend|tree|tripp|uniden|universal|unknown|vholdr|waring|weber|whirlpool|xm|yamaha|zlinealpine|altec|apple|audiovox|belkin|blueant|bose|boston|bracketron|brenthaven|canon|case|casemate|chestnut|coby|contour|cuisinart|danby|dbl|dei|delonghi|denon|dlink|dlo|electrolux|elgato|escort|eureka|fellowes|frigidaire|fsi|garmin|ge|griffin|haier|hoover|ihome|jabra|jawbone|kensington|kenwood|kitchenaid|klipsch|lacie|lasonic|lg|linksys|logitech|lowepro|lucasarts|maytag|microsoft|mitsubishi|monster|mosquito|motorola|netgear|nikon|nintendo|nokia|nyko|olympus|omnimount|onkyo|oregon|panasonic|peerless|pioneer|plantronics|polk|polkaudio|pure|robot|samsung|sanus|sdi|sennheiser|sharp|simpletech|sirius|skullcandy|smith|sony|speck|square|tech|techcraft|terk|tivo|tom|tomtom|toshiba|transcend|tree|tripp|uniden|universal|unknown|vholdr|waring|weber|whirlpool|xm|yamaha|zline|'"
      ]
     },
     "metadata": {},
     "execution_count": 53
    }
   ],
   "source": [
    "# buy_group_t.groupby([3]).groups\n",
    "# buy_group_t.indices\n",
    "buy_group_dic = buy_group_t.groupby([0]).groups\n",
    "# buy_group_t\n",
    "buy_group_list = list(buy_group_dic.keys())\n",
    "# group_pattern = \"\"\n",
    "for i in buy_group_list:\n",
    "    group_pattern += i + '|'\n",
    "# group_pattern = group_pattern[:-1]\n",
    "# group_pattern1 = group_pattern\n",
    "# group_pattern2 = group_pattern\n",
    "# group_pattern3 = group_pattern\n",
    "group_pattern"
   ]
  },
  {
   "cell_type": "code",
   "execution_count": 54,
   "metadata": {},
   "outputs": [],
   "source": [
    "group_pattern = group_pattern[:-1]"
   ]
  },
  {
   "cell_type": "code",
   "execution_count": 55,
   "metadata": {},
   "outputs": [],
   "source": [
    "def find(name):\n",
    "    string = name\n",
    "    string = string.lower()\n",
    "    string = re.compile(group_pattern).match(string)\n",
    "    # print(group_pattern)\n",
    "    # string = re.findall(group_pattern,string)\n",
    "    # string = re.match(group_pattern,string)\n",
    "    # string = re.match(group_pattern,string).group()\n",
    "    # print(type(string))\n",
    "    # print(len(string))\n",
    "    # print(string)\n",
    "    if string != None:\n",
    "        return string.group()\n",
    "    return None"
   ]
  },
  {
   "cell_type": "code",
   "execution_count": 38,
   "metadata": {},
   "outputs": [
    {
     "output_type": "execute_result",
     "data": {
      "text/plain": [
       "          idBuy                                               name  \\\n",
       "0      10011646  Linksys EtherFast EZXS88W Ethernet Switch - EZ...   \n",
       "1      10140760          Linksys EtherFast EZXS55W Ethernet Switch   \n",
       "2      10221960    Netgear ProSafe FS105 Ethernet Switch - FS105NA   \n",
       "3      10246269  Belkin Pro Series High Integrity VGA/SVGA Moni...   \n",
       "4      10315184             Netgear ProSafe JFS516 Ethernet Switch   \n",
       "...         ...                                                ...   \n",
       "1087  210566840          Sony VAIO FW378J/B Notebook - VGNFW378J/B   \n",
       "1088  210571462  Sennheiser CX380 Sennheiser CX 380 Sport II Gr...   \n",
       "1089  210634625                 IWORK 09 RETAIL-INT DVD - MB942Z/A   \n",
       "1090  210634626            IWORK 09 FAMILY PACK-INT DVD - MB943Z/A   \n",
       "1091  210647824  CASE MATE CARBON FIBER IPHONE 3G CASE BLACK - ...   \n",
       "\n",
       "                                            description manufacturer   price  \n",
       "0     Linksys EtherFast 8-Port 10/100 Switch (New/Wo...      linksys     NaN  \n",
       "1                                 5 x 10/100Base-TX LAN      linksys     NaN  \n",
       "2     NETGEAR FS105 Prosafe 5 Port 10/100 Desktop Sw...      netgear     NaN  \n",
       "3                  1 x HD-15 - 1 x HD-15 - 10ft - Beige       belkin     NaN  \n",
       "4     Netgear ProSafe 16 Port 10/100 Rackmount Switc...      netgear     NaN  \n",
       "...                                                 ...          ...     ...  \n",
       "1087  Intel Centrino 2 Core 2 Duo P8600 2.4GHz - 16....         sony     NaN  \n",
       "1088                                                NaN   sennheiser     NaN  \n",
       "1089                                                NaN        apple     NaN  \n",
       "1090                                                NaN        apple     NaN  \n",
       "1091                                                NaN     casemate  $28.08  \n",
       "\n",
       "[1090 rows x 5 columns]"
      ],
      "text/html": "<div>\n<style scoped>\n    .dataframe tbody tr th:only-of-type {\n        vertical-align: middle;\n    }\n\n    .dataframe tbody tr th {\n        vertical-align: top;\n    }\n\n    .dataframe thead th {\n        text-align: right;\n    }\n</style>\n<table border=\"1\" class=\"dataframe\">\n  <thead>\n    <tr style=\"text-align: right;\">\n      <th></th>\n      <th>idBuy</th>\n      <th>name</th>\n      <th>description</th>\n      <th>manufacturer</th>\n      <th>price</th>\n    </tr>\n  </thead>\n  <tbody>\n    <tr>\n      <th>0</th>\n      <td>10011646</td>\n      <td>Linksys EtherFast EZXS88W Ethernet Switch - EZ...</td>\n      <td>Linksys EtherFast 8-Port 10/100 Switch (New/Wo...</td>\n      <td>linksys</td>\n      <td>NaN</td>\n    </tr>\n    <tr>\n      <th>1</th>\n      <td>10140760</td>\n      <td>Linksys EtherFast EZXS55W Ethernet Switch</td>\n      <td>5 x 10/100Base-TX LAN</td>\n      <td>linksys</td>\n      <td>NaN</td>\n    </tr>\n    <tr>\n      <th>2</th>\n      <td>10221960</td>\n      <td>Netgear ProSafe FS105 Ethernet Switch - FS105NA</td>\n      <td>NETGEAR FS105 Prosafe 5 Port 10/100 Desktop Sw...</td>\n      <td>netgear</td>\n      <td>NaN</td>\n    </tr>\n    <tr>\n      <th>3</th>\n      <td>10246269</td>\n      <td>Belkin Pro Series High Integrity VGA/SVGA Moni...</td>\n      <td>1 x HD-15 - 1 x HD-15 - 10ft - Beige</td>\n      <td>belkin</td>\n      <td>NaN</td>\n    </tr>\n    <tr>\n      <th>4</th>\n      <td>10315184</td>\n      <td>Netgear ProSafe JFS516 Ethernet Switch</td>\n      <td>Netgear ProSafe 16 Port 10/100 Rackmount Switc...</td>\n      <td>netgear</td>\n      <td>NaN</td>\n    </tr>\n    <tr>\n      <th>...</th>\n      <td>...</td>\n      <td>...</td>\n      <td>...</td>\n      <td>...</td>\n      <td>...</td>\n    </tr>\n    <tr>\n      <th>1087</th>\n      <td>210566840</td>\n      <td>Sony VAIO FW378J/B Notebook - VGNFW378J/B</td>\n      <td>Intel Centrino 2 Core 2 Duo P8600 2.4GHz - 16....</td>\n      <td>sony</td>\n      <td>NaN</td>\n    </tr>\n    <tr>\n      <th>1088</th>\n      <td>210571462</td>\n      <td>Sennheiser CX380 Sennheiser CX 380 Sport II Gr...</td>\n      <td>NaN</td>\n      <td>sennheiser</td>\n      <td>NaN</td>\n    </tr>\n    <tr>\n      <th>1089</th>\n      <td>210634625</td>\n      <td>IWORK 09 RETAIL-INT DVD - MB942Z/A</td>\n      <td>NaN</td>\n      <td>apple</td>\n      <td>NaN</td>\n    </tr>\n    <tr>\n      <th>1090</th>\n      <td>210634626</td>\n      <td>IWORK 09 FAMILY PACK-INT DVD - MB943Z/A</td>\n      <td>NaN</td>\n      <td>apple</td>\n      <td>NaN</td>\n    </tr>\n    <tr>\n      <th>1091</th>\n      <td>210647824</td>\n      <td>CASE MATE CARBON FIBER IPHONE 3G CASE BLACK - ...</td>\n      <td>NaN</td>\n      <td>casemate</td>\n      <td>$28.08</td>\n    </tr>\n  </tbody>\n</table>\n<p>1090 rows × 5 columns</p>\n</div>"
     },
     "metadata": {},
     "execution_count": 38
    }
   ],
   "source": [
    "buy_group_null = buy[buy.manufacturer.isnull()] \n",
    "buy_group_null.manufacturer = buy_group_null['name'].apply(find)\n",
    "# buy_group_null = buy_group_null[buy_group_null.manufacturer.notnull()]\n",
    "buy_group_null = buy_group_null[buy_group_null.manufacturer.notnull()]\n",
    "buy_group = pd.concat([buy_group, buy_group_null], axis=0)\n",
    "# buy_group = buy_group.sort_index()\n",
    "buy_group = buy_group.sort_index()\n",
    "buy_group_dict = buy_group.groupby(['manufacturer']).indices\n",
    "buy_group"
   ]
  },
  {
   "cell_type": "code",
   "execution_count": 39,
   "metadata": {},
   "outputs": [],
   "source": [
    "group_dic = {}\n",
    "group_dic_else = {}\n",
    "for suffix in buy_group_dict:    \n",
    "    id_array = buy_group_dict[suffix].tolist()\n",
    "    # print(len(id_array))\n",
    "    if len(id_array) > 1:\n",
    "        group_dic[suffix] = {}\n",
    "        group_dic[suffix][\"Buy\"] = id_array\n",
    "    else:\n",
    "        group_dic_else[suffix] = {}\n",
    "        group_dic_else[suffix][\"Buy\"] = id_array"
   ]
  },
  {
   "cell_type": "code",
   "execution_count": 40,
   "metadata": {},
   "outputs": [],
   "source": [
    "group_list_else = []\n",
    "for suffix in group_dic_else:\n",
    "    id_array = group_dic_else[suffix]['Buy']\n",
    "    group_list_else+=id_array"
   ]
  },
  {
   "cell_type": "code",
   "execution_count": 41,
   "metadata": {},
   "outputs": [
    {
     "output_type": "execute_result",
     "data": {
      "text/plain": [
       "dict_keys(['alpine', 'altec', 'apple', 'audiovox', 'belkin', 'blueant', 'bose', 'boston', 'bracketron', 'brenthaven', 'canon', 'case', 'coby', 'cuisinart', 'danby', 'delonghi', 'denon', 'dlink', 'elgato', 'escort', 'eureka', 'fellowes', 'frigidaire', 'garmin', 'ge', 'griffin', 'haier', 'hoover', 'ihome', 'jabra', 'kensington', 'kenwood', 'kitchenaid', 'klipsch', 'lacie', 'lg', 'linksys', 'logitech', 'lowepro', 'maytag', 'microsoft', 'mitsubishi', 'monster', 'motorola', 'netgear', 'nikon', 'nintendo', 'nyko', 'olympus', 'omnimount', 'onkyo', 'panasonic', 'peerless', 'pioneer', 'plantronics', 'polk', 'polkaudio', 'pure', 'samsung', 'sanus', 'sennheiser', 'sharp', 'sirius', 'sony', 'speck', 'tech', 'techcraft', 'tivo', 'tom', 'toshiba', 'transcend', 'tripp', 'uniden', 'universal', 'vholdr', 'weber', 'whirlpool', 'xm', 'yamaha'])"
      ]
     },
     "metadata": {},
     "execution_count": 41
    }
   ],
   "source": [
    "group_dic.keys()"
   ]
  },
  {
   "cell_type": "code",
   "execution_count": 42,
   "metadata": {},
   "outputs": [],
   "source": [
    "# a = [1,2,3,4]\n",
    "# a[1:]\n",
    "buy_group.manufacturer = buy_group.manufacturer.drop_duplicates()"
   ]
  },
  {
   "cell_type": "code",
   "execution_count": 43,
   "metadata": {},
   "outputs": [
    {
     "output_type": "execute_result",
     "data": {
      "text/plain": [
       "          idBuy                                               name  \\\n",
       "0      10011646  Linksys EtherFast EZXS88W Ethernet Switch - EZ...   \n",
       "1      10140760          Linksys EtherFast EZXS55W Ethernet Switch   \n",
       "2      10221960    Netgear ProSafe FS105 Ethernet Switch - FS105NA   \n",
       "3      10246269  Belkin Pro Series High Integrity VGA/SVGA Moni...   \n",
       "4      10315184             Netgear ProSafe JFS516 Ethernet Switch   \n",
       "...         ...                                                ...   \n",
       "1087  210566840          Sony VAIO FW378J/B Notebook - VGNFW378J/B   \n",
       "1088  210571462  Sennheiser CX380 Sennheiser CX 380 Sport II Gr...   \n",
       "1089  210634625                 IWORK 09 RETAIL-INT DVD - MB942Z/A   \n",
       "1090  210634626            IWORK 09 FAMILY PACK-INT DVD - MB943Z/A   \n",
       "1091  210647824  CASE MATE CARBON FIBER IPHONE 3G CASE BLACK - ...   \n",
       "\n",
       "                                            description manufacturer   price  \n",
       "0     Linksys EtherFast 8-Port 10/100 Switch (New/Wo...      linksys     NaN  \n",
       "1                                 5 x 10/100Base-TX LAN          NaN     NaN  \n",
       "2     NETGEAR FS105 Prosafe 5 Port 10/100 Desktop Sw...      netgear     NaN  \n",
       "3                  1 x HD-15 - 1 x HD-15 - 10ft - Beige       belkin     NaN  \n",
       "4     Netgear ProSafe 16 Port 10/100 Rackmount Switc...          NaN     NaN  \n",
       "...                                                 ...          ...     ...  \n",
       "1087  Intel Centrino 2 Core 2 Duo P8600 2.4GHz - 16....          NaN     NaN  \n",
       "1088                                                NaN          NaN     NaN  \n",
       "1089                                                NaN          NaN     NaN  \n",
       "1090                                                NaN          NaN     NaN  \n",
       "1091                                                NaN     casemate  $28.08  \n",
       "\n",
       "[1090 rows x 5 columns]"
      ],
      "text/html": "<div>\n<style scoped>\n    .dataframe tbody tr th:only-of-type {\n        vertical-align: middle;\n    }\n\n    .dataframe tbody tr th {\n        vertical-align: top;\n    }\n\n    .dataframe thead th {\n        text-align: right;\n    }\n</style>\n<table border=\"1\" class=\"dataframe\">\n  <thead>\n    <tr style=\"text-align: right;\">\n      <th></th>\n      <th>idBuy</th>\n      <th>name</th>\n      <th>description</th>\n      <th>manufacturer</th>\n      <th>price</th>\n    </tr>\n  </thead>\n  <tbody>\n    <tr>\n      <th>0</th>\n      <td>10011646</td>\n      <td>Linksys EtherFast EZXS88W Ethernet Switch - EZ...</td>\n      <td>Linksys EtherFast 8-Port 10/100 Switch (New/Wo...</td>\n      <td>linksys</td>\n      <td>NaN</td>\n    </tr>\n    <tr>\n      <th>1</th>\n      <td>10140760</td>\n      <td>Linksys EtherFast EZXS55W Ethernet Switch</td>\n      <td>5 x 10/100Base-TX LAN</td>\n      <td>NaN</td>\n      <td>NaN</td>\n    </tr>\n    <tr>\n      <th>2</th>\n      <td>10221960</td>\n      <td>Netgear ProSafe FS105 Ethernet Switch - FS105NA</td>\n      <td>NETGEAR FS105 Prosafe 5 Port 10/100 Desktop Sw...</td>\n      <td>netgear</td>\n      <td>NaN</td>\n    </tr>\n    <tr>\n      <th>3</th>\n      <td>10246269</td>\n      <td>Belkin Pro Series High Integrity VGA/SVGA Moni...</td>\n      <td>1 x HD-15 - 1 x HD-15 - 10ft - Beige</td>\n      <td>belkin</td>\n      <td>NaN</td>\n    </tr>\n    <tr>\n      <th>4</th>\n      <td>10315184</td>\n      <td>Netgear ProSafe JFS516 Ethernet Switch</td>\n      <td>Netgear ProSafe 16 Port 10/100 Rackmount Switc...</td>\n      <td>NaN</td>\n      <td>NaN</td>\n    </tr>\n    <tr>\n      <th>...</th>\n      <td>...</td>\n      <td>...</td>\n      <td>...</td>\n      <td>...</td>\n      <td>...</td>\n    </tr>\n    <tr>\n      <th>1087</th>\n      <td>210566840</td>\n      <td>Sony VAIO FW378J/B Notebook - VGNFW378J/B</td>\n      <td>Intel Centrino 2 Core 2 Duo P8600 2.4GHz - 16....</td>\n      <td>NaN</td>\n      <td>NaN</td>\n    </tr>\n    <tr>\n      <th>1088</th>\n      <td>210571462</td>\n      <td>Sennheiser CX380 Sennheiser CX 380 Sport II Gr...</td>\n      <td>NaN</td>\n      <td>NaN</td>\n      <td>NaN</td>\n    </tr>\n    <tr>\n      <th>1089</th>\n      <td>210634625</td>\n      <td>IWORK 09 RETAIL-INT DVD - MB942Z/A</td>\n      <td>NaN</td>\n      <td>NaN</td>\n      <td>NaN</td>\n    </tr>\n    <tr>\n      <th>1090</th>\n      <td>210634626</td>\n      <td>IWORK 09 FAMILY PACK-INT DVD - MB943Z/A</td>\n      <td>NaN</td>\n      <td>NaN</td>\n      <td>NaN</td>\n    </tr>\n    <tr>\n      <th>1091</th>\n      <td>210647824</td>\n      <td>CASE MATE CARBON FIBER IPHONE 3G CASE BLACK - ...</td>\n      <td>NaN</td>\n      <td>casemate</td>\n      <td>$28.08</td>\n    </tr>\n  </tbody>\n</table>\n<p>1090 rows × 5 columns</p>\n</div>"
     },
     "metadata": {},
     "execution_count": 43
    }
   ],
   "source": [
    "buy_group"
   ]
  },
  {
   "cell_type": "code",
   "execution_count": 44,
   "metadata": {},
   "outputs": [
    {
     "output_type": "execute_result",
     "data": {
      "text/plain": [
       "          idBuy                                               name  \\\n",
       "0      10011646  Linksys EtherFast EZXS88W Ethernet Switch - EZ...   \n",
       "1      10140760          Linksys EtherFast EZXS55W Ethernet Switch   \n",
       "2      10221960    Netgear ProSafe FS105 Ethernet Switch - FS105NA   \n",
       "3      10246269  Belkin Pro Series High Integrity VGA/SVGA Moni...   \n",
       "5      10316920            LaCie Pocket Floppy Disk Drive - 706018   \n",
       "...         ...                                                ...   \n",
       "1028  209896693  Aliph Jawbone 2 Silver Bluetooth Headset - Ret...   \n",
       "1035  209975310  IH9B6R BLACK ALARM CLOCK F/IPODPERPCHARGES DOC...   \n",
       "1046  210251970  Chestnut Hill CHS40001 Chestnut Hill George Ip...   \n",
       "1081  210479062                Simpletech 2GB SD Card - 3505B001AA   \n",
       "1091  210647824  CASE MATE CARBON FIBER IPHONE 3G CASE BLACK - ...   \n",
       "\n",
       "                                            description manufacturer    price  \n",
       "0     Linksys EtherFast 8-Port 10/100 Switch (New/Wo...      linksys      NaN  \n",
       "1                                 5 x 10/100Base-TX LAN          NaN      NaN  \n",
       "2     NETGEAR FS105 Prosafe 5 Port 10/100 Desktop Sw...      netgear      NaN  \n",
       "3                  1 x HD-15 - 1 x HD-15 - 10ft - Beige       belkin      NaN  \n",
       "5                       LaCie Pocket USB Floppy 1.44 MB        lacie      NaN  \n",
       "...                                                 ...          ...      ...  \n",
       "1028                                                NaN      jawbone   $89.99  \n",
       "1035                                                NaN          sdi      NaN  \n",
       "1046                                                NaN     chestnut  $499.00  \n",
       "1081                                                NaN   simpletech   $12.88  \n",
       "1091                                                NaN     casemate   $28.08  \n",
       "\n",
       "[106 rows x 5 columns]"
      ],
      "text/html": "<div>\n<style scoped>\n    .dataframe tbody tr th:only-of-type {\n        vertical-align: middle;\n    }\n\n    .dataframe tbody tr th {\n        vertical-align: top;\n    }\n\n    .dataframe thead th {\n        text-align: right;\n    }\n</style>\n<table border=\"1\" class=\"dataframe\">\n  <thead>\n    <tr style=\"text-align: right;\">\n      <th></th>\n      <th>idBuy</th>\n      <th>name</th>\n      <th>description</th>\n      <th>manufacturer</th>\n      <th>price</th>\n    </tr>\n  </thead>\n  <tbody>\n    <tr>\n      <th>0</th>\n      <td>10011646</td>\n      <td>Linksys EtherFast EZXS88W Ethernet Switch - EZ...</td>\n      <td>Linksys EtherFast 8-Port 10/100 Switch (New/Wo...</td>\n      <td>linksys</td>\n      <td>NaN</td>\n    </tr>\n    <tr>\n      <th>1</th>\n      <td>10140760</td>\n      <td>Linksys EtherFast EZXS55W Ethernet Switch</td>\n      <td>5 x 10/100Base-TX LAN</td>\n      <td>NaN</td>\n      <td>NaN</td>\n    </tr>\n    <tr>\n      <th>2</th>\n      <td>10221960</td>\n      <td>Netgear ProSafe FS105 Ethernet Switch - FS105NA</td>\n      <td>NETGEAR FS105 Prosafe 5 Port 10/100 Desktop Sw...</td>\n      <td>netgear</td>\n      <td>NaN</td>\n    </tr>\n    <tr>\n      <th>3</th>\n      <td>10246269</td>\n      <td>Belkin Pro Series High Integrity VGA/SVGA Moni...</td>\n      <td>1 x HD-15 - 1 x HD-15 - 10ft - Beige</td>\n      <td>belkin</td>\n      <td>NaN</td>\n    </tr>\n    <tr>\n      <th>5</th>\n      <td>10316920</td>\n      <td>LaCie Pocket Floppy Disk Drive - 706018</td>\n      <td>LaCie Pocket USB Floppy 1.44 MB</td>\n      <td>lacie</td>\n      <td>NaN</td>\n    </tr>\n    <tr>\n      <th>...</th>\n      <td>...</td>\n      <td>...</td>\n      <td>...</td>\n      <td>...</td>\n      <td>...</td>\n    </tr>\n    <tr>\n      <th>1028</th>\n      <td>209896693</td>\n      <td>Aliph Jawbone 2 Silver Bluetooth Headset - Ret...</td>\n      <td>NaN</td>\n      <td>jawbone</td>\n      <td>$89.99</td>\n    </tr>\n    <tr>\n      <th>1035</th>\n      <td>209975310</td>\n      <td>IH9B6R BLACK ALARM CLOCK F/IPODPERPCHARGES DOC...</td>\n      <td>NaN</td>\n      <td>sdi</td>\n      <td>NaN</td>\n    </tr>\n    <tr>\n      <th>1046</th>\n      <td>210251970</td>\n      <td>Chestnut Hill CHS40001 Chestnut Hill George Ip...</td>\n      <td>NaN</td>\n      <td>chestnut</td>\n      <td>$499.00</td>\n    </tr>\n    <tr>\n      <th>1081</th>\n      <td>210479062</td>\n      <td>Simpletech 2GB SD Card - 3505B001AA</td>\n      <td>NaN</td>\n      <td>simpletech</td>\n      <td>$12.88</td>\n    </tr>\n    <tr>\n      <th>1091</th>\n      <td>210647824</td>\n      <td>CASE MATE CARBON FIBER IPHONE 3G CASE BLACK - ...</td>\n      <td>NaN</td>\n      <td>casemate</td>\n      <td>$28.08</td>\n    </tr>\n  </tbody>\n</table>\n<p>106 rows × 5 columns</p>\n</div>"
     },
     "metadata": {},
     "execution_count": 44
    }
   ],
   "source": [
    "buy_group.drop_duplicates('manufacturer', keep='first', inplace=False)"
   ]
  },
  {
   "cell_type": "code",
   "execution_count": 45,
   "metadata": {},
   "outputs": [],
   "source": [
    "import pandas as pd\n",
    "import numpy as np\n",
    "import textdistance\n",
    "import re\n",
    "abt = pd.read_csv(\"/Users/xuusuki/Documents/GitHub/sukixuu/Ass/20008/myass2/abt.csv\", encoding='ISO-8859-1')\n",
    "buy = pd.read_csv(\"/Users/xuusuki/Documents/GitHub/sukixuu/Ass/20008/myass2/buy.csv\", encoding='ISO-8859-1')\n",
    "truth_table = pd.read_csv(\"/Users/xuusuki/Documents/GitHub/sukixuu/Ass/20008/myass2/abt_buy_truth.csv\", encoding='ISO-8859-1')\n",
    "def str_comb_dic_index(df, index_array): \n",
    "    if len(index_array) == 2:\n",
    "        index_a = index_array[0]\n",
    "        index_b = index_array[1]\n",
    "        df[index_a] = df[index_a]+df[index_b]\n",
    "        return df\n",
    "    else:\n",
    "        index_a = index_array[0]\n",
    "        index_b = index_array[1]\n",
    "        df[index_a] = df[index_a]+df[index_b]\n",
    "        return str_comb_dic_index(df,index_array[1:])\n",
    "abt_new = str_comb_dic_index(abt,['name','description'])['name']"
   ]
  },
  {
   "cell_type": "code",
   "execution_count": 46,
   "metadata": {},
   "outputs": [
    {
     "output_type": "execute_result",
     "data": {
      "text/plain": [
       "0       Sony Turntable - PSLX350HSony Turntable - PSLX...\n",
       "1       Bose Acoustimass 5 Series III Speaker System -...\n",
       "2       Sony Switcher - SBV40SSony Switcher - SBV40S/ ...\n",
       "3       Sony 5 Disc CD Player - CDPCE375Sony 5 Disc CD...\n",
       "4       Bose 27028 161 Bookshelf Pair Speakers In Whit...\n",
       "                              ...                        \n",
       "1076    Logitech Cordless Desktop Wave Keyboard And Mo...\n",
       "1077    Mitsubishi DLP Black TV Stand - MBS73VMitsubis...\n",
       "1078    Logitech Digital Precision PC Gaming Headset -...\n",
       "1079    Logitech 2.1 Multimedia Silver Speaker System ...\n",
       "1080    Linksys Wireless-G Range Expander - WRE54GLink...\n",
       "Name: name, Length: 1081, dtype: object"
      ]
     },
     "metadata": {},
     "execution_count": 46
    }
   ],
   "source": [
    "abt_new"
   ]
  },
  {
   "cell_type": "code",
   "execution_count": 47,
   "metadata": {},
   "outputs": [],
   "source": [
    "def check_similarity(abt_row, buy_row):\n",
    "    buy_id\n",
    "    rate_t = pd. DataFrame({'buy':[], 'abt':[], 'similarity':[]})\n",
    "    print (abt_row)\n",
    "    print (buy_row)"
   ]
  },
  {
   "cell_type": "code",
   "execution_count": 48,
   "metadata": {},
   "outputs": [
    {
     "output_type": "execute_result",
     "data": {
      "text/plain": [
       "\"\\ntask1a\\nlink abt and buy without blocking\\n\\ni = 0\\nmy_linkage = pd. DataFrame({'buy':[], 'abt':[], 'similarity':[]})    # my truth table\\nwhile i < len(buy):\\n    j = 0 # initialization\\n    most_similar = [0,0] # initialization\\n    while j < len(abt):\\n        rate = check_similarity(abt.iloc[j], buy.iloc[i]) # [similarity_rate, abt_id, buy_id]\\n        break    #\\n        # rate = a list of all attribute used\\n        j += 1\\n    break    #\\n    i += 1\\n\""
      ]
     },
     "metadata": {},
     "execution_count": 48
    }
   ],
   "source": [
    "\n",
    "'''\n",
    "task1a\n",
    "link abt and buy without blocking\n",
    "\n",
    "i = 0\n",
    "my_linkage = pd. DataFrame({'buy':[], 'abt':[], 'similarity':[]})    # my truth table\n",
    "while i < len(buy):\n",
    "    j = 0 # initialization\n",
    "    most_similar = [0,0] # initialization\n",
    "    while j < len(abt):\n",
    "        rate = check_similarity(abt.iloc[j], buy.iloc[i]) # [similarity_rate, abt_id, buy_id]\n",
    "        break    #\n",
    "        # rate = a list of all attribute used\n",
    "        j += 1\n",
    "    break    #\n",
    "    i += 1\n",
    "'''"
   ]
  },
  {
   "cell_type": "code",
   "execution_count": 49,
   "metadata": {},
   "outputs": [],
   "source": [
    "df1= pd.DataFrame({'andriod':23\n",
    "                       ,'windows':56\n",
    "                       ,'iphone':45\n",
    "                       ,'linux':12\n",
    "                       ,'360浏览器':34\n",
    "                      }.items(),columns=['source','count'])"
   ]
  },
  {
   "cell_type": "code",
   "execution_count": 50,
   "metadata": {},
   "outputs": [
    {
     "output_type": "error",
     "ename": "SyntaxError",
     "evalue": "invalid syntax (<ipython-input-50-8178b0791db7>, line 1)",
     "traceback": [
      "\u001b[0;36m  File \u001b[0;32m\"<ipython-input-50-8178b0791db7>\"\u001b[0;36m, line \u001b[0;32m1\u001b[0m\n\u001b[0;31m    my_linkage=pd.(abt.iloc[0])\u001b[0m\n\u001b[0m                  ^\u001b[0m\n\u001b[0;31mSyntaxError\u001b[0m\u001b[0;31m:\u001b[0m invalid syntax\n"
     ]
    }
   ],
   "source": [
    "my_linkage=pd.(abt.iloc[0])"
   ]
  },
  {
   "cell_type": "code",
   "execution_count": 83,
   "metadata": {},
   "outputs": [
    {
     "output_type": "execute_result",
     "data": {
      "text/plain": [
       "                                                             0\n",
       "idABT                                                      552\n",
       "name         Sony Turntable - PSLX350HSony Turntable - PSLX...\n",
       "description  Sony Turntable - PSLX350H/ Belt Drive System/ ...\n",
       "price                                                      NaN"
      ],
      "text/html": "<div>\n<style scoped>\n    .dataframe tbody tr th:only-of-type {\n        vertical-align: middle;\n    }\n\n    .dataframe tbody tr th {\n        vertical-align: top;\n    }\n\n    .dataframe thead th {\n        text-align: right;\n    }\n</style>\n<table border=\"1\" class=\"dataframe\">\n  <thead>\n    <tr style=\"text-align: right;\">\n      <th></th>\n      <th>0</th>\n    </tr>\n  </thead>\n  <tbody>\n    <tr>\n      <th>idABT</th>\n      <td>552</td>\n    </tr>\n    <tr>\n      <th>name</th>\n      <td>Sony Turntable - PSLX350HSony Turntable - PSLX...</td>\n    </tr>\n    <tr>\n      <th>description</th>\n      <td>Sony Turntable - PSLX350H/ Belt Drive System/ ...</td>\n    </tr>\n    <tr>\n      <th>price</th>\n      <td>NaN</td>\n    </tr>\n  </tbody>\n</table>\n</div>"
     },
     "metadata": {},
     "execution_count": 83
    }
   ],
   "source": [
    "my_linkage"
   ]
  },
  {
   "cell_type": "code",
   "execution_count": 58,
   "metadata": {},
   "outputs": [],
   "source": [
    "buycp= buy.copy()"
   ]
  },
  {
   "cell_type": "code",
   "execution_count": 68,
   "metadata": {},
   "outputs": [
    {
     "output_type": "stream",
     "name": "stdout",
     "text": [
      "<class 'pandas.core.frame.DataFrame'>\nInt64Index: 25 entries, 6 to 838\nData columns (total 5 columns):\n #   Column        Non-Null Count  Dtype \n---  ------        --------------  ----- \n 0   idBuy         25 non-null     int64 \n 1   name          25 non-null     object\n 2   description   25 non-null     object\n 3   manufacturer  25 non-null     object\n 4   price         25 non-null     object\ndtypes: int64(1), object(4)\nmemory usage: 1.2+ KB\n"
     ]
    }
   ],
   "source": [
    "buy_group_cp = buy_group_cp.dropna().info()"
   ]
  },
  {
   "cell_type": "code",
   "execution_count": 71,
   "metadata": {},
   "outputs": [
    {
     "output_type": "execute_result",
     "data": {
      "text/plain": [
       "     idBuy_buycopy                                       name_buycopy  \\\n",
       "0         10011646  Linksys EtherFast EZXS88W Ethernet Switch - EZ...   \n",
       "1         10140760          Linksys EtherFast EZXS55W Ethernet Switch   \n",
       "2         10221960    Netgear ProSafe FS105 Ethernet Switch - FS105NA   \n",
       "3         10246269  Belkin Pro Series High Integrity VGA/SVGA Moni...   \n",
       "4         10316920            LaCie Pocket Floppy Disk Drive - 706018   \n",
       "..             ...                                                ...   \n",
       "101      209896693  Aliph Jawbone 2 Silver Bluetooth Headset - Ret...   \n",
       "102      209975310  IH9B6R BLACK ALARM CLOCK F/IPODPERPCHARGES DOC...   \n",
       "103      210251970  Chestnut Hill CHS40001 Chestnut Hill George Ip...   \n",
       "104      210479062                Simpletech 2GB SD Card - 3505B001AA   \n",
       "105      210647824  CASE MATE CARBON FIBER IPHONE 3G CASE BLACK - ...   \n",
       "\n",
       "                                   description_buycopy manufacturer  \\\n",
       "0    Linksys EtherFast 8-Port 10/100 Switch (New/Wo...      linksys   \n",
       "1                                5 x 10/100Base-TX LAN          NaN   \n",
       "2    NETGEAR FS105 Prosafe 5 Port 10/100 Desktop Sw...      netgear   \n",
       "3                 1 x HD-15 - 1 x HD-15 - 10ft - Beige       belkin   \n",
       "4                      LaCie Pocket USB Floppy 1.44 MB        lacie   \n",
       "..                                                 ...          ...   \n",
       "101                                                NaN      jawbone   \n",
       "102                                                NaN          sdi   \n",
       "103                                                NaN     chestnut   \n",
       "104                                                NaN   simpletech   \n",
       "105                                                NaN     casemate   \n",
       "\n",
       "    price_buycopy  idBuy_buy name_buy description_buy price_buy  \n",
       "0             NaN        NaN      NaN             NaN       NaN  \n",
       "1             NaN        NaN      NaN             NaN       NaN  \n",
       "2             NaN        NaN      NaN             NaN       NaN  \n",
       "3             NaN        NaN      NaN             NaN       NaN  \n",
       "4             NaN        NaN      NaN             NaN       NaN  \n",
       "..            ...        ...      ...             ...       ...  \n",
       "101        $89.99        NaN      NaN             NaN       NaN  \n",
       "102           NaN        NaN      NaN             NaN       NaN  \n",
       "103       $499.00        NaN      NaN             NaN       NaN  \n",
       "104        $12.88        NaN      NaN             NaN       NaN  \n",
       "105        $28.08        NaN      NaN             NaN       NaN  \n",
       "\n",
       "[106 rows x 9 columns]"
      ],
      "text/html": "<div>\n<style scoped>\n    .dataframe tbody tr th:only-of-type {\n        vertical-align: middle;\n    }\n\n    .dataframe tbody tr th {\n        vertical-align: top;\n    }\n\n    .dataframe thead th {\n        text-align: right;\n    }\n</style>\n<table border=\"1\" class=\"dataframe\">\n  <thead>\n    <tr style=\"text-align: right;\">\n      <th></th>\n      <th>idBuy_buycopy</th>\n      <th>name_buycopy</th>\n      <th>description_buycopy</th>\n      <th>manufacturer</th>\n      <th>price_buycopy</th>\n      <th>idBuy_buy</th>\n      <th>name_buy</th>\n      <th>description_buy</th>\n      <th>price_buy</th>\n    </tr>\n  </thead>\n  <tbody>\n    <tr>\n      <th>0</th>\n      <td>10011646</td>\n      <td>Linksys EtherFast EZXS88W Ethernet Switch - EZ...</td>\n      <td>Linksys EtherFast 8-Port 10/100 Switch (New/Wo...</td>\n      <td>linksys</td>\n      <td>NaN</td>\n      <td>NaN</td>\n      <td>NaN</td>\n      <td>NaN</td>\n      <td>NaN</td>\n    </tr>\n    <tr>\n      <th>1</th>\n      <td>10140760</td>\n      <td>Linksys EtherFast EZXS55W Ethernet Switch</td>\n      <td>5 x 10/100Base-TX LAN</td>\n      <td>NaN</td>\n      <td>NaN</td>\n      <td>NaN</td>\n      <td>NaN</td>\n      <td>NaN</td>\n      <td>NaN</td>\n    </tr>\n    <tr>\n      <th>2</th>\n      <td>10221960</td>\n      <td>Netgear ProSafe FS105 Ethernet Switch - FS105NA</td>\n      <td>NETGEAR FS105 Prosafe 5 Port 10/100 Desktop Sw...</td>\n      <td>netgear</td>\n      <td>NaN</td>\n      <td>NaN</td>\n      <td>NaN</td>\n      <td>NaN</td>\n      <td>NaN</td>\n    </tr>\n    <tr>\n      <th>3</th>\n      <td>10246269</td>\n      <td>Belkin Pro Series High Integrity VGA/SVGA Moni...</td>\n      <td>1 x HD-15 - 1 x HD-15 - 10ft - Beige</td>\n      <td>belkin</td>\n      <td>NaN</td>\n      <td>NaN</td>\n      <td>NaN</td>\n      <td>NaN</td>\n      <td>NaN</td>\n    </tr>\n    <tr>\n      <th>4</th>\n      <td>10316920</td>\n      <td>LaCie Pocket Floppy Disk Drive - 706018</td>\n      <td>LaCie Pocket USB Floppy 1.44 MB</td>\n      <td>lacie</td>\n      <td>NaN</td>\n      <td>NaN</td>\n      <td>NaN</td>\n      <td>NaN</td>\n      <td>NaN</td>\n    </tr>\n    <tr>\n      <th>...</th>\n      <td>...</td>\n      <td>...</td>\n      <td>...</td>\n      <td>...</td>\n      <td>...</td>\n      <td>...</td>\n      <td>...</td>\n      <td>...</td>\n      <td>...</td>\n    </tr>\n    <tr>\n      <th>101</th>\n      <td>209896693</td>\n      <td>Aliph Jawbone 2 Silver Bluetooth Headset - Ret...</td>\n      <td>NaN</td>\n      <td>jawbone</td>\n      <td>$89.99</td>\n      <td>NaN</td>\n      <td>NaN</td>\n      <td>NaN</td>\n      <td>NaN</td>\n    </tr>\n    <tr>\n      <th>102</th>\n      <td>209975310</td>\n      <td>IH9B6R BLACK ALARM CLOCK F/IPODPERPCHARGES DOC...</td>\n      <td>NaN</td>\n      <td>sdi</td>\n      <td>NaN</td>\n      <td>NaN</td>\n      <td>NaN</td>\n      <td>NaN</td>\n      <td>NaN</td>\n    </tr>\n    <tr>\n      <th>103</th>\n      <td>210251970</td>\n      <td>Chestnut Hill CHS40001 Chestnut Hill George Ip...</td>\n      <td>NaN</td>\n      <td>chestnut</td>\n      <td>$499.00</td>\n      <td>NaN</td>\n      <td>NaN</td>\n      <td>NaN</td>\n      <td>NaN</td>\n    </tr>\n    <tr>\n      <th>104</th>\n      <td>210479062</td>\n      <td>Simpletech 2GB SD Card - 3505B001AA</td>\n      <td>NaN</td>\n      <td>simpletech</td>\n      <td>$12.88</td>\n      <td>NaN</td>\n      <td>NaN</td>\n      <td>NaN</td>\n      <td>NaN</td>\n    </tr>\n    <tr>\n      <th>105</th>\n      <td>210647824</td>\n      <td>CASE MATE CARBON FIBER IPHONE 3G CASE BLACK - ...</td>\n      <td>NaN</td>\n      <td>casemate</td>\n      <td>$28.08</td>\n      <td>NaN</td>\n      <td>NaN</td>\n      <td>NaN</td>\n      <td>NaN</td>\n    </tr>\n  </tbody>\n</table>\n<p>106 rows × 9 columns</p>\n</div>"
     },
     "metadata": {},
     "execution_count": 71
    }
   ],
   "source": [
    "buy_group = buy_group.drop_duplicates('manufacturer', keep='first', inplace=False)\n",
    "buy_group_cp=buy_group.copy()\n",
    "buy_group_cp = buy_group_cp.dropna()\n",
    "pd.merge(buy_group,buy_group_cp,on='manufacturer',how = 'outer', suffixes=(\"_buycopy\",\"_buy\"))\n",
    "# pd.merge(df1,df2)   #没有指定连接键，默认用重叠列名，没有指定连接方式"
   ]
  },
  {
   "cell_type": "code",
   "execution_count": 72,
   "metadata": {},
   "outputs": [
    {
     "output_type": "execute_result",
     "data": {
      "text/plain": [
       "          idBuy                                               name  \\\n",
       "0      10011646  Linksys EtherFast EZXS88W Ethernet Switch - EZ...   \n",
       "1      10140760          Linksys EtherFast EZXS55W Ethernet Switch   \n",
       "2      10221960    Netgear ProSafe FS105 Ethernet Switch - FS105NA   \n",
       "3      10246269  Belkin Pro Series High Integrity VGA/SVGA Moni...   \n",
       "5      10316920            LaCie Pocket Floppy Disk Drive - 706018   \n",
       "...         ...                                                ...   \n",
       "1028  209896693  Aliph Jawbone 2 Silver Bluetooth Headset - Ret...   \n",
       "1035  209975310  IH9B6R BLACK ALARM CLOCK F/IPODPERPCHARGES DOC...   \n",
       "1046  210251970  Chestnut Hill CHS40001 Chestnut Hill George Ip...   \n",
       "1081  210479062                Simpletech 2GB SD Card - 3505B001AA   \n",
       "1091  210647824  CASE MATE CARBON FIBER IPHONE 3G CASE BLACK - ...   \n",
       "\n",
       "                                            description manufacturer    price  \n",
       "0     Linksys EtherFast 8-Port 10/100 Switch (New/Wo...      linksys      NaN  \n",
       "1                                 5 x 10/100Base-TX LAN          NaN      NaN  \n",
       "2     NETGEAR FS105 Prosafe 5 Port 10/100 Desktop Sw...      netgear      NaN  \n",
       "3                  1 x HD-15 - 1 x HD-15 - 10ft - Beige       belkin      NaN  \n",
       "5                       LaCie Pocket USB Floppy 1.44 MB        lacie      NaN  \n",
       "...                                                 ...          ...      ...  \n",
       "1028                                                NaN      jawbone   $89.99  \n",
       "1035                                                NaN          sdi      NaN  \n",
       "1046                                                NaN     chestnut  $499.00  \n",
       "1081                                                NaN   simpletech   $12.88  \n",
       "1091                                                NaN     casemate   $28.08  \n",
       "\n",
       "[106 rows x 5 columns]"
      ],
      "text/html": "<div>\n<style scoped>\n    .dataframe tbody tr th:only-of-type {\n        vertical-align: middle;\n    }\n\n    .dataframe tbody tr th {\n        vertical-align: top;\n    }\n\n    .dataframe thead th {\n        text-align: right;\n    }\n</style>\n<table border=\"1\" class=\"dataframe\">\n  <thead>\n    <tr style=\"text-align: right;\">\n      <th></th>\n      <th>idBuy</th>\n      <th>name</th>\n      <th>description</th>\n      <th>manufacturer</th>\n      <th>price</th>\n    </tr>\n  </thead>\n  <tbody>\n    <tr>\n      <th>0</th>\n      <td>10011646</td>\n      <td>Linksys EtherFast EZXS88W Ethernet Switch - EZ...</td>\n      <td>Linksys EtherFast 8-Port 10/100 Switch (New/Wo...</td>\n      <td>linksys</td>\n      <td>NaN</td>\n    </tr>\n    <tr>\n      <th>1</th>\n      <td>10140760</td>\n      <td>Linksys EtherFast EZXS55W Ethernet Switch</td>\n      <td>5 x 10/100Base-TX LAN</td>\n      <td>NaN</td>\n      <td>NaN</td>\n    </tr>\n    <tr>\n      <th>2</th>\n      <td>10221960</td>\n      <td>Netgear ProSafe FS105 Ethernet Switch - FS105NA</td>\n      <td>NETGEAR FS105 Prosafe 5 Port 10/100 Desktop Sw...</td>\n      <td>netgear</td>\n      <td>NaN</td>\n    </tr>\n    <tr>\n      <th>3</th>\n      <td>10246269</td>\n      <td>Belkin Pro Series High Integrity VGA/SVGA Moni...</td>\n      <td>1 x HD-15 - 1 x HD-15 - 10ft - Beige</td>\n      <td>belkin</td>\n      <td>NaN</td>\n    </tr>\n    <tr>\n      <th>5</th>\n      <td>10316920</td>\n      <td>LaCie Pocket Floppy Disk Drive - 706018</td>\n      <td>LaCie Pocket USB Floppy 1.44 MB</td>\n      <td>lacie</td>\n      <td>NaN</td>\n    </tr>\n    <tr>\n      <th>...</th>\n      <td>...</td>\n      <td>...</td>\n      <td>...</td>\n      <td>...</td>\n      <td>...</td>\n    </tr>\n    <tr>\n      <th>1028</th>\n      <td>209896693</td>\n      <td>Aliph Jawbone 2 Silver Bluetooth Headset - Ret...</td>\n      <td>NaN</td>\n      <td>jawbone</td>\n      <td>$89.99</td>\n    </tr>\n    <tr>\n      <th>1035</th>\n      <td>209975310</td>\n      <td>IH9B6R BLACK ALARM CLOCK F/IPODPERPCHARGES DOC...</td>\n      <td>NaN</td>\n      <td>sdi</td>\n      <td>NaN</td>\n    </tr>\n    <tr>\n      <th>1046</th>\n      <td>210251970</td>\n      <td>Chestnut Hill CHS40001 Chestnut Hill George Ip...</td>\n      <td>NaN</td>\n      <td>chestnut</td>\n      <td>$499.00</td>\n    </tr>\n    <tr>\n      <th>1081</th>\n      <td>210479062</td>\n      <td>Simpletech 2GB SD Card - 3505B001AA</td>\n      <td>NaN</td>\n      <td>simpletech</td>\n      <td>$12.88</td>\n    </tr>\n    <tr>\n      <th>1091</th>\n      <td>210647824</td>\n      <td>CASE MATE CARBON FIBER IPHONE 3G CASE BLACK - ...</td>\n      <td>NaN</td>\n      <td>casemate</td>\n      <td>$28.08</td>\n    </tr>\n  </tbody>\n</table>\n<p>106 rows × 5 columns</p>\n</div>"
     },
     "metadata": {},
     "execution_count": 72
    }
   ],
   "source": [
    "buy_group = buy_group.drop_duplicates('manufacturer', keep='first', inplace=False)\n",
    "buy_group"
   ]
  },
  {
   "cell_type": "code",
   "execution_count": 65,
   "metadata": {},
   "outputs": [
    {
     "output_type": "execute_result",
     "data": {
      "text/plain": [
       "          idBuy                                               name  \\\n",
       "0      10011646  Linksys EtherFast EZXS88W Ethernet Switch - EZ...   \n",
       "1      10140760          Linksys EtherFast EZXS55W Ethernet Switch   \n",
       "2      10221960    Netgear ProSafe FS105 Ethernet Switch - FS105NA   \n",
       "3      10246269  Belkin Pro Series High Integrity VGA/SVGA Moni...   \n",
       "4      10315184             Netgear ProSafe JFS516 Ethernet Switch   \n",
       "...         ...                                                ...   \n",
       "1087  210566840          Sony VAIO FW378J/B Notebook - VGNFW378J/B   \n",
       "1088  210571462  Sennheiser CX380 Sennheiser CX 380 Sport II Gr...   \n",
       "1089  210634625                 IWORK 09 RETAIL-INT DVD - MB942Z/A   \n",
       "1090  210634626            IWORK 09 FAMILY PACK-INT DVD - MB943Z/A   \n",
       "1091  210647824  CASE MATE CARBON FIBER IPHONE 3G CASE BLACK - ...   \n",
       "\n",
       "                                            description manufacturer   price  \n",
       "0     Linksys EtherFast 8-Port 10/100 Switch (New/Wo...      linksys     NaN  \n",
       "1                                 5 x 10/100Base-TX LAN          NaN     NaN  \n",
       "2     NETGEAR FS105 Prosafe 5 Port 10/100 Desktop Sw...      netgear     NaN  \n",
       "3                  1 x HD-15 - 1 x HD-15 - 10ft - Beige       belkin     NaN  \n",
       "4     Netgear ProSafe 16 Port 10/100 Rackmount Switc...          NaN     NaN  \n",
       "...                                                 ...          ...     ...  \n",
       "1087  Intel Centrino 2 Core 2 Duo P8600 2.4GHz - 16....          NaN     NaN  \n",
       "1088                                                NaN          NaN     NaN  \n",
       "1089                                                NaN          NaN     NaN  \n",
       "1090                                                NaN          NaN     NaN  \n",
       "1091                                                NaN     casemate  $28.08  \n",
       "\n",
       "[1090 rows x 5 columns]"
      ],
      "text/html": "<div>\n<style scoped>\n    .dataframe tbody tr th:only-of-type {\n        vertical-align: middle;\n    }\n\n    .dataframe tbody tr th {\n        vertical-align: top;\n    }\n\n    .dataframe thead th {\n        text-align: right;\n    }\n</style>\n<table border=\"1\" class=\"dataframe\">\n  <thead>\n    <tr style=\"text-align: right;\">\n      <th></th>\n      <th>idBuy</th>\n      <th>name</th>\n      <th>description</th>\n      <th>manufacturer</th>\n      <th>price</th>\n    </tr>\n  </thead>\n  <tbody>\n    <tr>\n      <th>0</th>\n      <td>10011646</td>\n      <td>Linksys EtherFast EZXS88W Ethernet Switch - EZ...</td>\n      <td>Linksys EtherFast 8-Port 10/100 Switch (New/Wo...</td>\n      <td>linksys</td>\n      <td>NaN</td>\n    </tr>\n    <tr>\n      <th>1</th>\n      <td>10140760</td>\n      <td>Linksys EtherFast EZXS55W Ethernet Switch</td>\n      <td>5 x 10/100Base-TX LAN</td>\n      <td>NaN</td>\n      <td>NaN</td>\n    </tr>\n    <tr>\n      <th>2</th>\n      <td>10221960</td>\n      <td>Netgear ProSafe FS105 Ethernet Switch - FS105NA</td>\n      <td>NETGEAR FS105 Prosafe 5 Port 10/100 Desktop Sw...</td>\n      <td>netgear</td>\n      <td>NaN</td>\n    </tr>\n    <tr>\n      <th>3</th>\n      <td>10246269</td>\n      <td>Belkin Pro Series High Integrity VGA/SVGA Moni...</td>\n      <td>1 x HD-15 - 1 x HD-15 - 10ft - Beige</td>\n      <td>belkin</td>\n      <td>NaN</td>\n    </tr>\n    <tr>\n      <th>4</th>\n      <td>10315184</td>\n      <td>Netgear ProSafe JFS516 Ethernet Switch</td>\n      <td>Netgear ProSafe 16 Port 10/100 Rackmount Switc...</td>\n      <td>NaN</td>\n      <td>NaN</td>\n    </tr>\n    <tr>\n      <th>...</th>\n      <td>...</td>\n      <td>...</td>\n      <td>...</td>\n      <td>...</td>\n      <td>...</td>\n    </tr>\n    <tr>\n      <th>1087</th>\n      <td>210566840</td>\n      <td>Sony VAIO FW378J/B Notebook - VGNFW378J/B</td>\n      <td>Intel Centrino 2 Core 2 Duo P8600 2.4GHz - 16....</td>\n      <td>NaN</td>\n      <td>NaN</td>\n    </tr>\n    <tr>\n      <th>1088</th>\n      <td>210571462</td>\n      <td>Sennheiser CX380 Sennheiser CX 380 Sport II Gr...</td>\n      <td>NaN</td>\n      <td>NaN</td>\n      <td>NaN</td>\n    </tr>\n    <tr>\n      <th>1089</th>\n      <td>210634625</td>\n      <td>IWORK 09 RETAIL-INT DVD - MB942Z/A</td>\n      <td>NaN</td>\n      <td>NaN</td>\n      <td>NaN</td>\n    </tr>\n    <tr>\n      <th>1090</th>\n      <td>210634626</td>\n      <td>IWORK 09 FAMILY PACK-INT DVD - MB943Z/A</td>\n      <td>NaN</td>\n      <td>NaN</td>\n      <td>NaN</td>\n    </tr>\n    <tr>\n      <th>1091</th>\n      <td>210647824</td>\n      <td>CASE MATE CARBON FIBER IPHONE 3G CASE BLACK - ...</td>\n      <td>NaN</td>\n      <td>casemate</td>\n      <td>$28.08</td>\n    </tr>\n  </tbody>\n</table>\n<p>1090 rows × 5 columns</p>\n</div>"
     },
     "metadata": {},
     "execution_count": 65
    }
   ],
   "source": [
    "buy_group = buy_group.drop_duplicates('manufacturer', keep='first', inplace=False)"
   ]
  },
  {
   "cell_type": "code",
   "execution_count": 67,
   "metadata": {},
   "outputs": [],
   "source": [
    "df1=pd.DataFrame(np.random.randn(3,4),columns=['a','b','c','d'])\n",
    "df2=pd.DataFrame(np.random.randn(2,3),columns=['b','d','a'])"
   ]
  },
  {
   "cell_type": "code",
   "execution_count": 69,
   "metadata": {},
   "outputs": [
    {
     "output_type": "execute_result",
     "data": {
      "text/plain": [
       "          a         b        c         d\n",
       "0  0.747408 -0.752100 -2.20362  0.655181\n",
       "1  1.979256 -0.227731 -0.99599  0.338946\n",
       "2 -1.707744 -0.079245  0.56139 -0.485245\n",
       "0  0.480365  0.373785      NaN -0.648654\n",
       "1 -0.291386  0.367753      NaN -1.706017"
      ],
      "text/html": "<div>\n<style scoped>\n    .dataframe tbody tr th:only-of-type {\n        vertical-align: middle;\n    }\n\n    .dataframe tbody tr th {\n        vertical-align: top;\n    }\n\n    .dataframe thead th {\n        text-align: right;\n    }\n</style>\n<table border=\"1\" class=\"dataframe\">\n  <thead>\n    <tr style=\"text-align: right;\">\n      <th></th>\n      <th>a</th>\n      <th>b</th>\n      <th>c</th>\n      <th>d</th>\n    </tr>\n  </thead>\n  <tbody>\n    <tr>\n      <th>0</th>\n      <td>0.747408</td>\n      <td>-0.752100</td>\n      <td>-2.20362</td>\n      <td>0.655181</td>\n    </tr>\n    <tr>\n      <th>1</th>\n      <td>1.979256</td>\n      <td>-0.227731</td>\n      <td>-0.99599</td>\n      <td>0.338946</td>\n    </tr>\n    <tr>\n      <th>2</th>\n      <td>-1.707744</td>\n      <td>-0.079245</td>\n      <td>0.56139</td>\n      <td>-0.485245</td>\n    </tr>\n    <tr>\n      <th>0</th>\n      <td>0.480365</td>\n      <td>0.373785</td>\n      <td>NaN</td>\n      <td>-0.648654</td>\n    </tr>\n    <tr>\n      <th>1</th>\n      <td>-0.291386</td>\n      <td>0.367753</td>\n      <td>NaN</td>\n      <td>-1.706017</td>\n    </tr>\n  </tbody>\n</table>\n</div>"
     },
     "metadata": {},
     "execution_count": 69
    }
   ],
   "source": [
    "pd.concat([df1,df2])\n",
    "pd.concat([df1,df2],ignore_index=True) # 重新索引"
   ]
  },
  {
   "cell_type": "code",
   "execution_count": 75,
   "metadata": {},
   "outputs": [
    {
     "output_type": "execute_result",
     "data": {
      "text/plain": [
       "          b         d         a\n",
       "0  0.373785 -0.648654  0.480365\n",
       "1  0.367753 -1.706017 -0.291386"
      ],
      "text/html": "<div>\n<style scoped>\n    .dataframe tbody tr th:only-of-type {\n        vertical-align: middle;\n    }\n\n    .dataframe tbody tr th {\n        vertical-align: top;\n    }\n\n    .dataframe thead th {\n        text-align: right;\n    }\n</style>\n<table border=\"1\" class=\"dataframe\">\n  <thead>\n    <tr style=\"text-align: right;\">\n      <th></th>\n      <th>b</th>\n      <th>d</th>\n      <th>a</th>\n    </tr>\n  </thead>\n  <tbody>\n    <tr>\n      <th>0</th>\n      <td>0.373785</td>\n      <td>-0.648654</td>\n      <td>0.480365</td>\n    </tr>\n    <tr>\n      <th>1</th>\n      <td>0.367753</td>\n      <td>-1.706017</td>\n      <td>-0.291386</td>\n    </tr>\n  </tbody>\n</table>\n</div>"
     },
     "metadata": {},
     "execution_count": 75
    }
   ],
   "source": [
    "df2"
   ]
  },
  {
   "cell_type": "code",
   "execution_count": 23,
   "metadata": {},
   "outputs": [],
   "source": [
    "buy.manufacturer = buy.manufacturer.str.lower()\n",
    "buy_group_t = buy[buy.manufacturer.notnull()]\n",
    "buy_group_t.manufacturer = buy_group_t.manufacturer.str.replace(r'[-]|[\\.]|[,]',\"\")\n",
    "buy_group_t.manufacturer = buy_group_t.manufacturer.str.replace(r' +',\" \")\n",
    "buy_group_t = buy_group_t.manufacturer.str.split(r' ',expand=True)"
   ]
  },
  {
   "cell_type": "code",
   "execution_count": 27,
   "metadata": {},
   "outputs": [],
   "source": [
    "buy.manufacturer = buy.manufacturer.str.lower()"
   ]
  },
  {
   "cell_type": "code",
   "execution_count": 56,
   "metadata": {},
   "outputs": [
    {
     "output_type": "execute_result",
     "data": {
      "text/plain": [
       "          idBuy                                               name  \\\n",
       "0      10011646  Linksys EtherFast EZXS88W Ethernet Switch - EZ...   \n",
       "1      10140760          Linksys EtherFast EZXS55W Ethernet Switch   \n",
       "2      10221960    Netgear ProSafe FS105 Ethernet Switch - FS105NA   \n",
       "3      10246269  Belkin Pro Series High Integrity VGA/SVGA Moni...   \n",
       "4      10315184             Netgear ProSafe JFS516 Ethernet Switch   \n",
       "...         ...                                                ...   \n",
       "1087  210566840          Sony VAIO FW378J/B Notebook - VGNFW378J/B   \n",
       "1088  210571462  Sennheiser CX380 Sennheiser CX 380 Sport II Gr...   \n",
       "1089  210634625                 IWORK 09 RETAIL-INT DVD - MB942Z/A   \n",
       "1090  210634626            IWORK 09 FAMILY PACK-INT DVD - MB943Z/A   \n",
       "1091  210647824  CASE MATE CARBON FIBER IPHONE 3G CASE BLACK - ...   \n",
       "\n",
       "                                            description manufacturer   price  \n",
       "0     Linksys EtherFast 8-Port 10/100 Switch (New/Wo...      linksys     NaN  \n",
       "1                                 5 x 10/100Base-TX LAN      linksys     NaN  \n",
       "2     NETGEAR FS105 Prosafe 5 Port 10/100 Desktop Sw...      netgear     NaN  \n",
       "3                  1 x HD-15 - 1 x HD-15 - 10ft - Beige       belkin     NaN  \n",
       "4     Netgear ProSafe 16 Port 10/100 Rackmount Switc...      netgear     NaN  \n",
       "...                                                 ...          ...     ...  \n",
       "1087  Intel Centrino 2 Core 2 Duo P8600 2.4GHz - 16....         sony     NaN  \n",
       "1088                                                NaN   sennheiser     NaN  \n",
       "1089                                                NaN        apple     NaN  \n",
       "1090                                                NaN        apple     NaN  \n",
       "1091                                                NaN     casemate  $28.08  \n",
       "\n",
       "[1086 rows x 5 columns]"
      ],
      "text/html": "<div>\n<style scoped>\n    .dataframe tbody tr th:only-of-type {\n        vertical-align: middle;\n    }\n\n    .dataframe tbody tr th {\n        vertical-align: top;\n    }\n\n    .dataframe thead th {\n        text-align: right;\n    }\n</style>\n<table border=\"1\" class=\"dataframe\">\n  <thead>\n    <tr style=\"text-align: right;\">\n      <th></th>\n      <th>idBuy</th>\n      <th>name</th>\n      <th>description</th>\n      <th>manufacturer</th>\n      <th>price</th>\n    </tr>\n  </thead>\n  <tbody>\n    <tr>\n      <th>0</th>\n      <td>10011646</td>\n      <td>Linksys EtherFast EZXS88W Ethernet Switch - EZ...</td>\n      <td>Linksys EtherFast 8-Port 10/100 Switch (New/Wo...</td>\n      <td>linksys</td>\n      <td>NaN</td>\n    </tr>\n    <tr>\n      <th>1</th>\n      <td>10140760</td>\n      <td>Linksys EtherFast EZXS55W Ethernet Switch</td>\n      <td>5 x 10/100Base-TX LAN</td>\n      <td>linksys</td>\n      <td>NaN</td>\n    </tr>\n    <tr>\n      <th>2</th>\n      <td>10221960</td>\n      <td>Netgear ProSafe FS105 Ethernet Switch - FS105NA</td>\n      <td>NETGEAR FS105 Prosafe 5 Port 10/100 Desktop Sw...</td>\n      <td>netgear</td>\n      <td>NaN</td>\n    </tr>\n    <tr>\n      <th>3</th>\n      <td>10246269</td>\n      <td>Belkin Pro Series High Integrity VGA/SVGA Moni...</td>\n      <td>1 x HD-15 - 1 x HD-15 - 10ft - Beige</td>\n      <td>belkin</td>\n      <td>NaN</td>\n    </tr>\n    <tr>\n      <th>4</th>\n      <td>10315184</td>\n      <td>Netgear ProSafe JFS516 Ethernet Switch</td>\n      <td>Netgear ProSafe 16 Port 10/100 Rackmount Switc...</td>\n      <td>netgear</td>\n      <td>NaN</td>\n    </tr>\n    <tr>\n      <th>...</th>\n      <td>...</td>\n      <td>...</td>\n      <td>...</td>\n      <td>...</td>\n      <td>...</td>\n    </tr>\n    <tr>\n      <th>1087</th>\n      <td>210566840</td>\n      <td>Sony VAIO FW378J/B Notebook - VGNFW378J/B</td>\n      <td>Intel Centrino 2 Core 2 Duo P8600 2.4GHz - 16....</td>\n      <td>sony</td>\n      <td>NaN</td>\n    </tr>\n    <tr>\n      <th>1088</th>\n      <td>210571462</td>\n      <td>Sennheiser CX380 Sennheiser CX 380 Sport II Gr...</td>\n      <td>NaN</td>\n      <td>sennheiser</td>\n      <td>NaN</td>\n    </tr>\n    <tr>\n      <th>1089</th>\n      <td>210634625</td>\n      <td>IWORK 09 RETAIL-INT DVD - MB942Z/A</td>\n      <td>NaN</td>\n      <td>apple</td>\n      <td>NaN</td>\n    </tr>\n    <tr>\n      <th>1090</th>\n      <td>210634626</td>\n      <td>IWORK 09 FAMILY PACK-INT DVD - MB943Z/A</td>\n      <td>NaN</td>\n      <td>apple</td>\n      <td>NaN</td>\n    </tr>\n    <tr>\n      <th>1091</th>\n      <td>210647824</td>\n      <td>CASE MATE CARBON FIBER IPHONE 3G CASE BLACK - ...</td>\n      <td>NaN</td>\n      <td>casemate</td>\n      <td>$28.08</td>\n    </tr>\n  </tbody>\n</table>\n<p>1086 rows × 5 columns</p>\n</div>"
     },
     "metadata": {},
     "execution_count": 56
    }
   ],
   "source": [
    "buy_group "
   ]
  },
  {
   "cell_type": "code",
   "execution_count": null,
   "metadata": {},
   "outputs": [],
   "source": []
  }
 ]
}